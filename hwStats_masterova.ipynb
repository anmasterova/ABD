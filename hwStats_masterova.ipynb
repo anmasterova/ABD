{
 "cells": [
  {
   "cell_type": "code",
   "execution_count": 1,
   "metadata": {},
   "outputs": [],
   "source": [
    "import numpy as np\n",
    "import scipy.stats as stats\n",
    "from statsmodels.stats.proportion import proportions_ztest"
   ]
  },
  {
   "cell_type": "markdown",
   "metadata": {},
   "source": [
    "Поставим себя на место руководителя компании, который хочет прорекламировать свой продукт на некоторой рекламной площадке. Его команда придумала два баннера и стала отслеживать клики по ним, чтобы решить, какой из них оставить. Для этого применем Z-критерий равенства пропорций для независимых выборок, чтобы проверить одну из предполагаемых гипотез:\n",
    "<br>1. пропорции кликов на баннеры А и В одинаковы\n",
    "<br>2. на баннер А кликов больше\n",
    "<br>3. на баннер А кликов меньше"
   ]
  },
  {
   "cell_type": "markdown",
   "metadata": {},
   "source": [
    "За первые сутки мы собрали следующие данные (здесь 1 - пользователь кликнул на баннер, 0 - нет):"
   ]
  },
  {
   "cell_type": "code",
   "execution_count": 2,
   "metadata": {},
   "outputs": [
    {
     "name": "stdout",
     "output_type": "stream",
     "text": [
      "Баннер А увидело 300 пользователей, кликнуло на баннер 152 человек\n",
      "Баннер B увидело 800 пользователей, кликнуло на баннер 409 человек\n"
     ]
    }
   ],
   "source": [
    "n_A = 300\n",
    "n_B = 800\n",
    "\n",
    "banner_A = np.random.randint(0,2, size=(n_A))\n",
    "banner_B = np.random.randint(0,2, size=(n_B))\n",
    "\n",
    "banner_A_clicks = banner_A.sum()\n",
    "banner_B_clicks = banner_B.sum()\n",
    "\n",
    "print('Баннер А увидело', n_A, 'пользователей, кликнуло на баннер', banner_A_clicks, 'человек')\n",
    "print('Баннер B увидело', n_B, 'пользователей, кликнуло на баннер', banner_B_clicks, 'человек')"
   ]
  },
  {
   "cell_type": "markdown",
   "metadata": {},
   "source": [
    "Проведем двусторонний тест со следующими гипотезами:\n",
    "<br>$H_0: \\pi_A=\\pi_B$, т.е. пропорции кликов по разным баннерам равны\n",
    "<br>$H_1: \\pi_A\\neq\\pi_B$, т.е. пропорции кликов по разным баннерам НЕ равны"
   ]
  },
  {
   "cell_type": "markdown",
   "metadata": {},
   "source": [
    "Посмотрим, что дадут нам уже написанные функции из библиотеки statsmodels"
   ]
  },
  {
   "cell_type": "code",
   "execution_count": 3,
   "metadata": {},
   "outputs": [
    {
     "name": "stdout",
     "output_type": "stream",
     "text": [
      "-0.13542772833202701 0.8922737020406295\n"
     ]
    }
   ],
   "source": [
    "count = np.array([banner_A_clicks, banner_B_clicks])\n",
    "nobs = np.array([n_A, n_B])\n",
    "\n",
    "z_stat, p_value = proportions_ztest(count, nobs, alternative='two-sided')\n",
    "print(z_stat, p_value)"
   ]
  },
  {
   "cell_type": "markdown",
   "metadata": {},
   "source": [
    "Пробуем самостоятельно написать алгоритм вычисления Z-статистики и ..."
   ]
  },
  {
   "cell_type": "code",
   "execution_count": 4,
   "metadata": {},
   "outputs": [
    {
     "data": {
      "text/plain": [
       "-0.13542772833202701"
      ]
     },
     "execution_count": 4,
     "metadata": {},
     "output_type": "execute_result"
    }
   ],
   "source": [
    "p_A = banner_A_clicks/n_A\n",
    "p_B = banner_B_clicks/n_B\n",
    "p = (banner_A_clicks + banner_B_clicks) / (n_A + n_B)\n",
    "Z = (p_A - p_B) / np.sqrt(p*(1-p)/n_A + p*(1-p)/n_B)\n",
    "Z"
   ]
  },
  {
   "cell_type": "markdown",
   "metadata": {},
   "source": [
    "... и p-value."
   ]
  },
  {
   "cell_type": "code",
   "execution_count": 5,
   "metadata": {},
   "outputs": [
    {
     "data": {
      "text/plain": [
       "0.8922737020406295"
      ]
     },
     "execution_count": 5,
     "metadata": {},
     "output_type": "execute_result"
    }
   ],
   "source": [
    "p_val = stats.norm.cdf(-np.abs(Z)) * 2\n",
    "p_val"
   ]
  },
  {
   "cell_type": "markdown",
   "metadata": {},
   "source": [
    "Теперь собирем это в одну функцию"
   ]
  },
  {
   "cell_type": "code",
   "execution_count": 6,
   "metadata": {},
   "outputs": [],
   "source": [
    "P = {\n",
    "    'two-sided': stats.norm.cdf(-np.abs(Z)) * 2\n",
    "}"
   ]
  },
  {
   "cell_type": "code",
   "execution_count": 7,
   "metadata": {},
   "outputs": [],
   "source": [
    "def my_proportion_ztest(count, nobs, alternative):\n",
    "    p_1 = count[0]/nobs[0]\n",
    "    p_2 = count[1]/nobs[1]\n",
    "    p = (count[0] + count[1]) / (nobs[0] + nobs[1])\n",
    "    Z = (p_1 - p_2) / np.sqrt(p*(1-p)/nobs[0] + p*(1-p)/nobs[1])\n",
    "    p_val = P[alternative]\n",
    "    return Z, p_val"
   ]
  },
  {
   "cell_type": "code",
   "execution_count": 8,
   "metadata": {},
   "outputs": [
    {
     "data": {
      "text/plain": [
       "(-0.13542772833202701, 0.8922737020406295)"
      ]
     },
     "execution_count": 8,
     "metadata": {},
     "output_type": "execute_result"
    }
   ],
   "source": [
    "my_proportion_ztest(count, nobs, alternative='two-sided')"
   ]
  },
  {
   "cell_type": "code",
   "execution_count": 9,
   "metadata": {},
   "outputs": [],
   "source": [
    "def my_two_ztest(Z , p_val):\n",
    "    if p_value > 0.05:\n",
    "        print('Не можем отвергнуть нулевую гипотезу о том, что доли не имеют значимого различия', '\\nZ-критерий=',Z,'\\np-value = ',p_val)\n",
    "    else:\n",
    "        print('Не можем принять нулевую гипотезу о том, что доли не имеют значимого различия','\\nZ-критерий=',Z,'\\np-value = ',p_val)"
   ]
  },
  {
   "cell_type": "code",
   "execution_count": 10,
   "metadata": {},
   "outputs": [
    {
     "name": "stdout",
     "output_type": "stream",
     "text": [
      "Не можем отвергнуть нулевую гипотезу о том, что доли не имеют значимого различия \n",
      "Z-критерий= -0.13542772833202701 \n",
      "p-value =  0.8922737020406295\n"
     ]
    }
   ],
   "source": [
    "my_two_ztest(*my_proportion_ztest(count, nobs, alternative='two-sided'))"
   ]
  },
  {
   "cell_type": "markdown",
   "metadata": {},
   "source": [
    "Теперь проведем  правосторонний тест со следующими гипотезами:\n",
    "<br>$H_0: \\pi_A\\leq\\pi_B$, т.е. кликов по баннеру А было столько же или меньше, чем кликов по баннеру В\n",
    "<br>$H_1: \\pi_A>\\pi_B$, т.е. кликов по баннеру А было значимо больше"
   ]
  },
  {
   "cell_type": "markdown",
   "metadata": {},
   "source": [
    "Сначала опять посмотрим заранее правильные ответы)))"
   ]
  },
  {
   "cell_type": "code",
   "execution_count": 11,
   "metadata": {},
   "outputs": [
    {
     "name": "stdout",
     "output_type": "stream",
     "text": [
      "-0.13542772833202701 0.5538631489796852\n"
     ]
    }
   ],
   "source": [
    "z_stat, p_value = proportions_ztest(count, nobs, alternative='larger')\n",
    "print(z_stat, p_value)"
   ]
  },
  {
   "cell_type": "markdown",
   "metadata": {},
   "source": [
    "Подсчет Z-статистики никак не отличается, следует изменить только алгоритм подсчета p-value"
   ]
  },
  {
   "cell_type": "code",
   "execution_count": 12,
   "metadata": {},
   "outputs": [],
   "source": [
    "P = {\n",
    "    'two-sided': stats.norm.cdf(-np.abs(Z)) * 2,\n",
    "    'larger': 1 - stats.norm.cdf(Z)\n",
    "}"
   ]
  },
  {
   "cell_type": "markdown",
   "metadata": {},
   "source": [
    "Также подкорректируем функцию вывода"
   ]
  },
  {
   "cell_type": "code",
   "execution_count": 13,
   "metadata": {},
   "outputs": [],
   "source": [
    "def my_right_ztest(Z , p_val):\n",
    "    if p_value > 0.05:\n",
    "        print('Не можем отвергнуть нулевую гипотезу о том, что доли кликов на первый баннер меньше или приблизительно равны доли кликов на второй баннер', '\\nZ-критерий=',Z,'\\np-value = ',p_val)\n",
    "    else:\n",
    "        print('Не можем принять нулевую гипотезу о том, что доли кликов на первый баннер меньше или приблизительно равны доли кликов на второй баннер','\\nZ-критерий=',Z,'\\np-value = ',p_val)"
   ]
  },
  {
   "cell_type": "code",
   "execution_count": 14,
   "metadata": {},
   "outputs": [
    {
     "name": "stdout",
     "output_type": "stream",
     "text": [
      "Не можем отвергнуть нулевую гипотезу о том, что доли кликов на первый баннер меньше или приблизительно равны доли кликов на второй баннер \n",
      "Z-критерий= -0.13542772833202701 \n",
      "p-value =  0.5538631489796852\n"
     ]
    }
   ],
   "source": [
    "my_right_ztest(*my_proportion_ztest(count, nobs, alternative='larger'))"
   ]
  },
  {
   "cell_type": "code",
   "execution_count": 16,
   "metadata": {},
   "outputs": [],
   "source": [
    "H0 = {\n",
    "    'two-sided': ' что доли не имеют значимого различия',\n",
    "    'larger': ' что доля кликов на первый баннер меньше или приблизительно равна доли кликов на второй баннер'\n",
    "}"
   ]
  },
  {
   "cell_type": "code",
   "execution_count": 17,
   "metadata": {},
   "outputs": [],
   "source": [
    "def my_proportion_ztest(count, nobs, alternative):\n",
    "    p_1 = count[0]/nobs[0]\n",
    "    p_2 = count[1]/nobs[1]\n",
    "    p = (count[0] + count[1]) / (nobs[0] + nobs[1])\n",
    "    Z = (p_1 - p_2) / np.sqrt(p*(1-p)/nobs[0] + p*(1-p)/nobs[1])\n",
    "    p_val = P[alternative]\n",
    "    return Z, p_val, alternative "
   ]
  },
  {
   "cell_type": "code",
   "execution_count": 18,
   "metadata": {},
   "outputs": [],
   "source": [
    "def my_ztest(Z , p_val, alternative):\n",
    "    if p_value > 0.05:\n",
    "        print('Не можем отвергнуть нулевую гипотезу о том,', H0[alternative], '\\nZ-критерий=',Z,'\\np-value = ',p_val)\n",
    "    else:\n",
    "        print('Не можем принять нулевую гипотезу о том,', H0[alternative],'\\nZ-критерий=',Z,'\\np-value = ',p_val)"
   ]
  },
  {
   "cell_type": "code",
   "execution_count": 19,
   "metadata": {},
   "outputs": [
    {
     "name": "stdout",
     "output_type": "stream",
     "text": [
      "Не можем отвергнуть нулевую гипотезу о том,  что доля кликов на первый баннер меньше или приблизительно равна доли кликов на второй баннер \n",
      "Z-критерий= -0.13542772833202701 \n",
      "p-value =  0.5538631489796852\n"
     ]
    }
   ],
   "source": [
    "my_ztest(*my_proportion_ztest(count, nobs, alternative='larger'))"
   ]
  },
  {
   "cell_type": "markdown",
   "metadata": {},
   "source": [
    "Теперь проведем левосторонний тест с обратными гипотезами:\n",
    "<br>$H_0: \\pi_A\\geq\\pi_B$, т.е. кликов по баннеру А было столько же или больше, чем кликов по баннеру В\n",
    "<br>$H_1: \\pi_A<\\pi_B$, т.е. кликов по баннеру А было значимо меньше"
   ]
  },
  {
   "cell_type": "markdown",
   "metadata": {},
   "source": [
    "Сравнивать будем с этим..."
   ]
  },
  {
   "cell_type": "code",
   "execution_count": 20,
   "metadata": {},
   "outputs": [
    {
     "name": "stdout",
     "output_type": "stream",
     "text": [
      "-0.13542772833202701 0.44613685102031475\n"
     ]
    }
   ],
   "source": [
    "z_stat, p_value = proportions_ztest(count, nobs, alternative='smaller')\n",
    "print(z_stat, p_value)"
   ]
  },
  {
   "cell_type": "markdown",
   "metadata": {},
   "source": [
    "Нужно предусмотреть этот вариант в функции вычисления p-value и функции, отображающей конечные выводы"
   ]
  },
  {
   "cell_type": "code",
   "execution_count": 21,
   "metadata": {},
   "outputs": [],
   "source": [
    "P = {\n",
    "    'two-sided': stats.norm.cdf(-np.abs(Z)) * 2,\n",
    "    'larger': 1 - stats.norm.cdf(Z),\n",
    "    'smaller': stats.norm.cdf(Z)\n",
    "}"
   ]
  },
  {
   "cell_type": "code",
   "execution_count": 22,
   "metadata": {},
   "outputs": [],
   "source": [
    "H0 = {\n",
    "    'two-sided': ' что доли не имеют значимого различия',\n",
    "    'larger': ' что доля кликов на первый баннер меньше или приблизительно равна доли кликов на второй баннер',\n",
    "    'smaller': ' что доля кликов на первый баннер больше или приблизительно равна доли кликов на второй баннер'\n",
    "}"
   ]
  },
  {
   "cell_type": "markdown",
   "metadata": {},
   "source": [
    "Теперь остается только запустить нашу функцию"
   ]
  },
  {
   "cell_type": "code",
   "execution_count": 23,
   "metadata": {},
   "outputs": [
    {
     "name": "stdout",
     "output_type": "stream",
     "text": [
      "Не можем отвергнуть нулевую гипотезу о том,  что доля кликов на первый баннер больше или приблизительно равна доли кликов на второй баннер \n",
      "Z-критерий= -0.13542772833202701 \n",
      "p-value =  0.44613685102031475\n"
     ]
    }
   ],
   "source": [
    "my_ztest(*my_proportion_ztest(count, nobs, alternative='smaller'))"
   ]
  },
  {
   "cell_type": "code",
   "execution_count": null,
   "metadata": {},
   "outputs": [],
   "source": []
  }
 ],
 "metadata": {
  "kernelspec": {
   "display_name": "Python 3.7.7 64-bit",
   "language": "python",
   "name": "python37764bitb92fa4725b54429f835f5c4225416036"
  },
  "language_info": {
   "codemirror_mode": {
    "name": "ipython",
    "version": 3
   },
   "file_extension": ".py",
   "mimetype": "text/x-python",
   "name": "python",
   "nbconvert_exporter": "python",
   "pygments_lexer": "ipython3",
   "version": "3.7.7"
  }
 },
 "nbformat": 4,
 "nbformat_minor": 4
}
